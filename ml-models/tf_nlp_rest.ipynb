{
  "nbformat": 4,
  "nbformat_minor": 0,
  "metadata": {
    "colab": {
      "name": "tf_nlp_rest.ipynb",
      "provenance": [],
      "collapsed_sections": []
    },
    "kernelspec": {
      "name": "python3",
      "display_name": "Python 3"
    }
  },
  "cells": [
    {
      "cell_type": "code",
      "metadata": {
        "colab": {
          "base_uri": "https://localhost:8080/"
        },
        "id": "vWFuhnGbXDNk",
        "outputId": "5d257cae-e4dc-46fb-f2c4-3ef55380e142"
      },
      "source": [
        "!ls"
      ],
      "execution_count": 4,
      "outputs": [
        {
          "output_type": "stream",
          "text": [
            "sample_data  text_classifier_model.zip\ttfidfmodel.pickle\n"
          ],
          "name": "stdout"
        }
      ]
    },
    {
      "cell_type": "code",
      "metadata": {
        "colab": {
          "base_uri": "https://localhost:8080/"
        },
        "id": "adG7rp3wYdx6",
        "outputId": "c6dcded1-a676-433c-fa6a-5edee623f8dd"
      },
      "source": [
        "!unzip text_classifier_model.zip"
      ],
      "execution_count": 5,
      "outputs": [
        {
          "output_type": "stream",
          "text": [
            "Archive:  text_classifier_model.zip\n",
            "   creating: text_classifier_model/\n",
            "   creating: text_classifier_model/1/\n",
            "   creating: text_classifier_model/1/assets/\n",
            "  inflating: text_classifier_model/1/saved_model.pb  \n",
            "   creating: text_classifier_model/1/variables/\n",
            "  inflating: text_classifier_model/1/variables/variables.data-00000-of-00001  \n",
            "  inflating: text_classifier_model/1/variables/variables.index  \n"
          ],
          "name": "stdout"
        }
      ]
    },
    {
      "cell_type": "code",
      "metadata": {
        "id": "O4XWJMReYhNu"
      },
      "source": [
        "import tensorflow as tf\r\n"
      ],
      "execution_count": 6,
      "outputs": []
    },
    {
      "cell_type": "code",
      "metadata": {
        "colab": {
          "base_uri": "https://localhost:8080/"
        },
        "id": "qdDqZehTYj0C",
        "outputId": "c8070b7a-2020-414c-88f7-6d5b3dfce751"
      },
      "source": [
        "!ls"
      ],
      "execution_count": 7,
      "outputs": [
        {
          "output_type": "stream",
          "text": [
            "sample_data\t       text_classifier_model.zip\n",
            "text_classifier_model  tfidfmodel.pickle\n"
          ],
          "name": "stdout"
        }
      ]
    },
    {
      "cell_type": "code",
      "metadata": {
        "id": "jfEWQ6YoY9m1"
      },
      "source": [
        "from tensorflow.keras.models import load_model\r\n"
      ],
      "execution_count": 8,
      "outputs": []
    },
    {
      "cell_type": "code",
      "metadata": {
        "id": "zPykVxlTYzBr"
      },
      "source": [
        "model = load_model('text_classifier_model/1/')"
      ],
      "execution_count": 9,
      "outputs": []
    },
    {
      "cell_type": "code",
      "metadata": {
        "id": "CV_53i4NZPFJ"
      },
      "source": [
        "import pickle"
      ],
      "execution_count": 10,
      "outputs": []
    },
    {
      "cell_type": "code",
      "metadata": {
        "id": "XxKYupyqY12U"
      },
      "source": [
        "with open('tfidfmodel.pickle','rb') as file:\r\n",
        "    tfidf = pickle.load(file)"
      ],
      "execution_count": 11,
      "outputs": []
    },
    {
      "cell_type": "code",
      "metadata": {
        "colab": {
          "base_uri": "https://localhost:8080/"
        },
        "id": "98pCiAMMZM7q",
        "outputId": "8e6151b2-92bc-4beb-f4a0-9968699ddf3c"
      },
      "source": [
        "!pip install flask-ngrok\r\n"
      ],
      "execution_count": 12,
      "outputs": [
        {
          "output_type": "stream",
          "text": [
            "Requirement already satisfied: flask-ngrok in /usr/local/lib/python3.6/dist-packages (0.0.25)\n",
            "Requirement already satisfied: requests in /usr/local/lib/python3.6/dist-packages (from flask-ngrok) (2.23.0)\n",
            "Requirement already satisfied: Flask>=0.8 in /usr/local/lib/python3.6/dist-packages (from flask-ngrok) (1.1.2)\n",
            "Requirement already satisfied: idna<3,>=2.5 in /usr/local/lib/python3.6/dist-packages (from requests->flask-ngrok) (2.10)\n",
            "Requirement already satisfied: urllib3!=1.25.0,!=1.25.1,<1.26,>=1.21.1 in /usr/local/lib/python3.6/dist-packages (from requests->flask-ngrok) (1.24.3)\n",
            "Requirement already satisfied: chardet<4,>=3.0.2 in /usr/local/lib/python3.6/dist-packages (from requests->flask-ngrok) (3.0.4)\n",
            "Requirement already satisfied: certifi>=2017.4.17 in /usr/local/lib/python3.6/dist-packages (from requests->flask-ngrok) (2020.12.5)\n",
            "Requirement already satisfied: Jinja2>=2.10.1 in /usr/local/lib/python3.6/dist-packages (from Flask>=0.8->flask-ngrok) (2.11.2)\n",
            "Requirement already satisfied: click>=5.1 in /usr/local/lib/python3.6/dist-packages (from Flask>=0.8->flask-ngrok) (7.1.2)\n",
            "Requirement already satisfied: Werkzeug>=0.15 in /usr/local/lib/python3.6/dist-packages (from Flask>=0.8->flask-ngrok) (1.0.1)\n",
            "Requirement already satisfied: itsdangerous>=0.24 in /usr/local/lib/python3.6/dist-packages (from Flask>=0.8->flask-ngrok) (1.1.0)\n",
            "Requirement already satisfied: MarkupSafe>=0.23 in /usr/local/lib/python3.6/dist-packages (from Jinja2>=2.10.1->Flask>=0.8->flask-ngrok) (1.1.1)\n"
          ],
          "name": "stdout"
        }
      ]
    },
    {
      "cell_type": "code",
      "metadata": {
        "id": "dVKsGVTBZTtK"
      },
      "source": [
        "from flask_ngrok import run_with_ngrok\r\n",
        "from flask import Flask, request"
      ],
      "execution_count": 13,
      "outputs": []
    },
    {
      "cell_type": "code",
      "metadata": {
        "id": "5UKqiffbZVsX"
      },
      "source": [
        "app = Flask(__name__)\r\n"
      ],
      "execution_count": 14,
      "outputs": []
    },
    {
      "cell_type": "code",
      "metadata": {
        "id": "9zUvMpVDZXfx"
      },
      "source": [
        "run_with_ngrok(app)\r\n"
      ],
      "execution_count": 15,
      "outputs": []
    },
    {
      "cell_type": "code",
      "metadata": {
        "id": "jUY4ShekZkG4"
      },
      "source": [
        "@app.route('/predict',methods=['POST'])\r\n",
        "def text_classifier():\r\n",
        "    request_data = request.get_json(force=True)\r\n",
        "    text = request_data['sentence']\r\n",
        "    print(\"printing the sentence\")\r\n",
        "    print(text)\r\n",
        "    text_list=[]\r\n",
        "    text_list.append(text)\r\n",
        "    print(text_list)\r\n",
        "    numeric_text = tfidf.transform(text_list).toarray()\r\n",
        "    output = model.predict(numeric_text)[:,1]\r\n",
        "    print(\"Printing prediction\")\r\n",
        "    print(output)\r\n",
        "    sentiment=\"unknown\"\r\n",
        "    if output[0] > 0.5 :\r\n",
        "      print(\"positive prediction\")\r\n",
        "      sentiment=\"postive\"\r\n",
        "    else:\r\n",
        "      print(\"negative prediction\")\r\n",
        "      sentiment=\"negative\"\r\n",
        "    print(\"Printing sentiment\")     \r\n",
        "    print(sentiment)\r\n",
        "    return \"The sentiment is {}\".format(sentiment)\r\n"
      ],
      "execution_count": 16,
      "outputs": []
    },
    {
      "cell_type": "code",
      "metadata": {
        "colab": {
          "base_uri": "https://localhost:8080/"
        },
        "id": "WEtcq0KvaeaJ",
        "outputId": "3cadb14d-1b71-47fe-96ef-836008ef7c2c"
      },
      "source": [
        "app.run()\r\n"
      ],
      "execution_count": null,
      "outputs": [
        {
          "output_type": "stream",
          "text": [
            " * Serving Flask app \"__main__\" (lazy loading)\n",
            " * Environment: production\n",
            "\u001b[31m   WARNING: This is a development server. Do not use it in a production deployment.\u001b[0m\n",
            "\u001b[2m   Use a production WSGI server instead.\u001b[0m\n",
            " * Debug mode: off\n"
          ],
          "name": "stdout"
        },
        {
          "output_type": "stream",
          "text": [
            " * Running on http://127.0.0.1:5000/ (Press CTRL+C to quit)\n"
          ],
          "name": "stderr"
        },
        {
          "output_type": "stream",
          "text": [
            " * Running on http://d3e30b07893e.ngrok.io\n",
            " * Traffic stats available on http://127.0.0.1:4040\n"
          ],
          "name": "stdout"
        },
        {
          "output_type": "stream",
          "text": [
            "127.0.0.1 - - [19/Dec/2020 14:43:27] \"\u001b[37mPOST /predict HTTP/1.1\u001b[0m\" 200 -\n"
          ],
          "name": "stderr"
        },
        {
          "output_type": "stream",
          "text": [
            "printing the sentence\n",
            "bad performance by India\n",
            "['bad performance by India']\n",
            "Printing prediction\n",
            "[3.7747657e-08]\n",
            "negative prediction\n",
            "Printing sentiment\n",
            "negative\n"
          ],
          "name": "stdout"
        },
        {
          "output_type": "stream",
          "text": [
            "127.0.0.1 - - [19/Dec/2020 14:43:41] \"\u001b[37mPOST /predict HTTP/1.1\u001b[0m\" 200 -\n"
          ],
          "name": "stderr"
        },
        {
          "output_type": "stream",
          "text": [
            "printing the sentence\n",
            "good performance by England\n",
            "['good performance by England']\n",
            "Printing prediction\n",
            "[0.7882702]\n",
            "positive prediction\n",
            "Printing sentiment\n",
            "postive\n"
          ],
          "name": "stdout"
        }
      ]
    },
    {
      "cell_type": "code",
      "metadata": {
        "id": "L4AVed4OajHt"
      },
      "source": [
        ""
      ],
      "execution_count": null,
      "outputs": []
    }
  ]
}