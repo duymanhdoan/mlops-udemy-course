{
  "nbformat": 4,
  "nbformat_minor": 0,
  "metadata": {
    "colab": {
      "name": "twitter_sentiment_analysis_rest.ipynb",
      "provenance": [],
      "collapsed_sections": []
    },
    "kernelspec": {
      "name": "python3",
      "display_name": "Python 3"
    }
  },
  "cells": [
    {
      "cell_type": "code",
      "metadata": {
        "id": "eV6zZpVHIfwA"
      },
      "source": [
        "url='http://50bbef5502be.ngrok.io/predict'"
      ],
      "execution_count": 48,
      "outputs": []
    },
    {
      "cell_type": "code",
      "metadata": {
        "id": "WevyvNvONAqW"
      },
      "source": [
        "import json\r\n",
        "import requests"
      ],
      "execution_count": 17,
      "outputs": []
    },
    {
      "cell_type": "code",
      "metadata": {
        "id": "WgQSt-O1MvDs"
      },
      "source": [
        "request_data = json.dumps({'sentence':'bad performance by England'})"
      ],
      "execution_count": 18,
      "outputs": []
    },
    {
      "cell_type": "code",
      "metadata": {
        "id": "ycsOEyeJNGhe"
      },
      "source": [
        "response = requests.post(url,request_data)"
      ],
      "execution_count": 19,
      "outputs": []
    },
    {
      "cell_type": "code",
      "metadata": {
        "colab": {
          "base_uri": "https://localhost:8080/",
          "height": 35
        },
        "id": "tWzA_QDLNJlc",
        "outputId": "b03316f0-b952-4c9e-a0da-160917e48212"
      },
      "source": [
        "response.text"
      ],
      "execution_count": 21,
      "outputs": [
        {
          "output_type": "execute_result",
          "data": {
            "application/vnd.google.colaboratory.intrinsic+json": {
              "type": "string"
            },
            "text/plain": [
              "'The prediction is negative'"
            ]
          },
          "metadata": {
            "tags": []
          },
          "execution_count": 21
        }
      ]
    },
    {
      "cell_type": "code",
      "metadata": {
        "id": "dFQmxWA2I6Ko"
      },
      "source": [
        "import tweepy"
      ],
      "execution_count": 22,
      "outputs": []
    },
    {
      "cell_type": "code",
      "metadata": {
        "id": "l5QAKWvMJJze"
      },
      "source": [
        "consumer_key='N5Ay8FdafVNrXvmNEhxG0ci78'\n",
        "consumer_secret='lImEjPtS1TAOkX3yNrAPZQk8ak8mREQwjkgggKZAwmE7PKalrl'\n",
        "access_token ='1156204423539912704-VSsCK3DwZIra4HlKhJnq0Mhl6pfLN5'\n",
        "access_secret='xez0lMA2Ja8zHq9Qo4azjopRXNnXZb8YKAOJwsrdCMblK'"
      ],
      "execution_count": 23,
      "outputs": []
    },
    {
      "cell_type": "code",
      "metadata": {
        "id": "sOLVL_KxJMeU"
      },
      "source": [
        "auth = tweepy.OAuthHandler(consumer_key, consumer_secret)\n",
        "auth.set_access_token(access_token, access_secret)"
      ],
      "execution_count": 24,
      "outputs": []
    },
    {
      "cell_type": "code",
      "metadata": {
        "id": "kfVXpr3bJ0oF"
      },
      "source": [
        "api = tweepy.API(auth,timeout=20)"
      ],
      "execution_count": 25,
      "outputs": []
    },
    {
      "cell_type": "code",
      "metadata": {
        "id": "eB8ANVp0J5ON"
      },
      "source": [
        "tweet_text = 'vaccine';\n"
      ],
      "execution_count": 26,
      "outputs": []
    },
    {
      "cell_type": "code",
      "metadata": {
        "id": "3J7S7bOLKChr"
      },
      "source": [
        "tweets_list = []\n"
      ],
      "execution_count": 27,
      "outputs": []
    },
    {
      "cell_type": "code",
      "metadata": {
        "id": "rOQ4-ertKFwc"
      },
      "source": [
        "for status in tweepy.Cursor(api.search,q=tweet_text,lang='en',result_type='recent').items(500):\n",
        "        tweets_list.append(status.text)"
      ],
      "execution_count": 28,
      "outputs": []
    },
    {
      "cell_type": "code",
      "metadata": {
        "colab": {
          "base_uri": "https://localhost:8080/"
        },
        "id": "OG41xGqpKLBf",
        "outputId": "36eb132d-ea8c-49e8-86a1-a87af2372bed"
      },
      "source": [
        "len(tweets_list)"
      ],
      "execution_count": 29,
      "outputs": [
        {
          "output_type": "execute_result",
          "data": {
            "text/plain": [
              "500"
            ]
          },
          "metadata": {
            "tags": []
          },
          "execution_count": 29
        }
      ]
    },
    {
      "cell_type": "code",
      "metadata": {
        "colab": {
          "base_uri": "https://localhost:8080/",
          "height": 52
        },
        "id": "ld-BqJUfKQnk",
        "outputId": "3748bd41-9f0f-4942-c479-ca827061a3ef"
      },
      "source": [
        "tweets_list[30]"
      ],
      "execution_count": 30,
      "outputs": [
        {
          "output_type": "execute_result",
          "data": {
            "application/vnd.google.colaboratory.intrinsic+json": {
              "type": "string"
            },
            "text/plain": [
              "'RT @Reuters: Moderna expects its COVID-19 vaccine to protect against UK coronavirus variant https://t.co/P9IoaGd8M9 https://t.co/zyWuS3BkP8'"
            ]
          },
          "metadata": {
            "tags": []
          },
          "execution_count": 30
        }
      ]
    },
    {
      "cell_type": "code",
      "metadata": {
        "id": "fgeOd8qJKTqX"
      },
      "source": [
        "import re"
      ],
      "execution_count": 31,
      "outputs": []
    },
    {
      "cell_type": "code",
      "metadata": {
        "id": "Vwmws5ZTKjv5"
      },
      "source": [
        "for i in range(len(tweets_list)):\n",
        "  # get each tweet\n",
        "  tweet = tweets_list[i]\n",
        "  tweet = tweet.lower()\n",
        "  # remove junk characters \n",
        "  tweet = re.sub(r'\\W',' ',tweet)\n",
        "  # remove one or more space\n",
        "  tweet = re.sub(r'\\s+',' ',tweet)\n",
        "  # Remove all characters except a to z or A to Z and replace them with a space\n",
        "  tweet = re.sub('[^a-zA-Z]',' ',tweet)\n",
        "  # store the clean tweet back in the list\n",
        "  tweets_list[i] = tweet"
      ],
      "execution_count": 32,
      "outputs": []
    },
    {
      "cell_type": "code",
      "metadata": {
        "colab": {
          "base_uri": "https://localhost:8080/",
          "height": 52
        },
        "id": "YdM_PtHVKyXo",
        "outputId": "747d85b4-dcb5-4d2c-9b3a-c1f4ec5a3aae"
      },
      "source": [
        "tweets_list[30]"
      ],
      "execution_count": 33,
      "outputs": [
        {
          "output_type": "execute_result",
          "data": {
            "application/vnd.google.colaboratory.intrinsic+json": {
              "type": "string"
            },
            "text/plain": [
              "'rt reuters moderna expects its covid    vaccine to protect against uk coronavirus variant https t co p ioagd m  https t co zywus bkp '"
            ]
          },
          "metadata": {
            "tags": []
          },
          "execution_count": 33
        }
      ]
    },
    {
      "cell_type": "code",
      "metadata": {
        "id": "F2_u9KB5NzYm"
      },
      "source": [
        "positive_tweet = 0\r\n",
        "negative_tweet = 0"
      ],
      "execution_count": 53,
      "outputs": []
    },
    {
      "cell_type": "code",
      "metadata": {
        "id": "KxpfTan_Lvph"
      },
      "source": [
        "for tweet in tweets_list:\r\n",
        "  request_data = json.dumps({'sentence':tweet})\r\n",
        "  response = requests.post(url,request_data)\r\n",
        "  sentiment = response.text\r\n",
        "  if sentiment == 'positive':\r\n",
        "    positive_tweet += 1\r\n",
        "  else:\r\n",
        "    negative_tweet += 1"
      ],
      "execution_count": 54,
      "outputs": []
    },
    {
      "cell_type": "code",
      "metadata": {
        "colab": {
          "base_uri": "https://localhost:8080/"
        },
        "id": "IicLnS6bOPJM",
        "outputId": "3b822185-fcaf-400a-c7fa-a37138987c5b"
      },
      "source": [
        "positive_tweet"
      ],
      "execution_count": 55,
      "outputs": [
        {
          "output_type": "execute_result",
          "data": {
            "text/plain": [
              "6"
            ]
          },
          "metadata": {
            "tags": []
          },
          "execution_count": 55
        }
      ]
    },
    {
      "cell_type": "code",
      "metadata": {
        "colab": {
          "base_uri": "https://localhost:8080/"
        },
        "id": "vLd4YoA-Oa8p",
        "outputId": "2d281e06-8343-4346-9403-56b96b48a45b"
      },
      "source": [
        "negative_tweet"
      ],
      "execution_count": 56,
      "outputs": [
        {
          "output_type": "execute_result",
          "data": {
            "text/plain": [
              "494"
            ]
          },
          "metadata": {
            "tags": []
          },
          "execution_count": 56
        }
      ]
    },
    {
      "cell_type": "code",
      "metadata": {
        "id": "PYBoNN9vOdGC"
      },
      "source": [
        ""
      ],
      "execution_count": null,
      "outputs": []
    }
  ]
}